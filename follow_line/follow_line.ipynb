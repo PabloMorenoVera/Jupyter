{
 "cells": [
  {
   "cell_type": "markdown",
   "metadata": {},
   "source": [
    "# Follow_Line Practice"
   ]
  },
  {
   "cell_type": "markdown",
   "metadata": {},
   "source": [
    "<img src=\"images/jderobot.png\" width=\"15%\" height=\"15%\" style=\"float:left;padding-right:15px\"/>\n",
    "\n",
    "## 1- Introduction\n",
    "---\n",
    "\n",
    "In this exercise we are going to implement a \"Formula 1\" intelligence to follow a red line across the circuit. To do it, the student needs to have at least the next knowledge:\n",
    "* Python programming skills\n",
    "* Color spaces (RGB, HSV, etc)\n",
    "* Basic understanding of [OpenCV library](http://opencv.org/)\n",
    "\n",
    "## 2- Exercise components\n",
    "\n",
    "<img src=\"images/Formula1.png\" width=\"30%\" height=\"30%\" style=\"float:right;padding-right:15px\"/>\n",
    "### 2.1- Gazebo simulator\n",
    "---\n",
    "Gazebo simulator will be running in the background. The Gazebo world employed for this exercise has one element: a simulated Formula1 car robot.The Formula1 robot will provide camera where the images will be provided to the student and a laser where the walls will be detected. \n",
    "\n",
    "### 2.2 Follow Line Component\n",
    "This component has been developed specifically to carry out this exercise. This component connects to Gazebo to teleoperate the Formula1 (or send orders to it) and receives images from its camera. The student has to modify this component and add code to accomplish the exercise. In particular, it is required to modify the execute() method."
   ]
  },
  {
   "cell_type": "markdown",
   "metadata": {},
   "source": [
    "## 3- Exercise initialization\n",
    "---\n",
    "First of all, we need to run the Gazebo simulator:"
   ]
  },
  {
   "cell_type": "code",
   "execution_count": null,
   "metadata": {},
   "outputs": [],
   "source": [
    "import subprocess\n",
    "gazebo = subprocess.Popen((\"gazebo\", \"simpleCircuit.world\"))"
   ]
  },
  {
   "cell_type": "markdown",
   "metadata": {},
   "source": [
    "After launch the gazebo simulator, we must wait a few second to let the gazebo's world be opened. Then a world like the one shows in the following picture should appears:\n",
    "\n",
    "<img src=\"images/world.png\">"
   ]
  },
  {
   "cell_type": "markdown",
   "metadata": {},
   "source": [
    "Second, we need to import the necessary files."
   ]
  },
  {
   "cell_type": "code",
   "execution_count": null,
   "metadata": {},
   "outputs": [],
   "source": [
    "#!/usr/bin/python\n",
    "#-*- coding: utf-8 -*-\n",
    "import threading\n",
    "import time\n",
    "import math\n",
    "import cv2\n",
    "import numpy as np\n",
    "from datetime import datetime\n",
    "\n",
    "from follow_line import FollowLine\n",
    "from printer import printImage\n",
    "\n",
    "time_cycle = 80"
   ]
  },
  {
   "cell_type": "markdown",
   "metadata": {},
   "source": [
    "To start coding, we need to call Follow_Line class once. Run this code and wait a few seconds until follow line initialization finishes with an OK message:"
   ]
  },
  {
   "cell_type": "code",
   "execution_count": null,
   "metadata": {},
   "outputs": [],
   "source": [
    "%matplotlib inline\n",
    "\n",
    "fl = FollowLine()\n",
    "fl.play()"
   ]
  },
  {
   "cell_type": "markdown",
   "metadata": {},
   "source": [
    "Now we can start coding to give intelligence to the Formula1 robot. We can do it modifying the execute() method from Follow Line component. This method will be called iteratively. Each iteration, we'll print a message."
   ]
  },
  {
   "cell_type": "code",
   "execution_count": null,
   "metadata": {},
   "outputs": [],
   "source": [
    "# Implement execute method\n",
    "def execute(self):\n",
    "    print \"Running execute iteration\"\n",
    "      \n",
    "fl.setExecute(execute)"
   ]
  },
  {
   "cell_type": "markdown",
   "metadata": {},
   "source": [
    "Stop printing the updating of the method with an empty instruction:"
   ]
  },
  {
   "cell_type": "code",
   "execution_count": null,
   "metadata": {},
   "outputs": [],
   "source": [
    "def execute(self):\n",
    "    pass\n",
    "\n",
    "rp.setExecute(execute)"
   ]
  },
  {
   "cell_type": "markdown",
   "metadata": {},
   "source": [
    "### 3.1 - API\n",
    "---\n",
    "\n",
    "To get the images from the camera:\n",
    "    * input_image = self.getImage()\n",
    "\n",
    "\n",
    "To move the robot:\n",
    "    * self.motors.sendV(10)\n",
    "    * self.motors.sendW(5)\n",
    "\n",
    "\n",
    "To change the image inRGB to HSV:\n",
    "    * image_HSV = cv2.cvtColor()\n",
    "\n",
    "\n",
    "To filter the red values ​​:\n",
    "    * value_min_HSV = np.array([0, 235, 60])\n",
    "     * value_max_HSV = np.array([180, 255, 255])\n",
    "\n",
    "\n",
    "To filter the images:\n",
    "    * image_HSV_filtered = cv2.inRange()\n",
    "\n",
    "\n",
    "To create a mask with the red values:\n",
    "    * image_HSV_filtered_Mask = np.dstack(())\n",
    "\n",
    "\n",
    "To get the numbers of the image rows and columns:\n",
    "    * size = input_image.shape\n",
    "\n",
    "\n",
    "To get the pixels that change of tone:\n",
    "    * position_pixel_left = []\n",
    "    * position_pixel_right  = []\n",
    "\n",
    "\n",
    "After tha you must calculate the middle position of the road and then, calculate the desviation of the car:\n",
    "    * desviation = position_middle - (columns/2)\n",
    "\n",
    "Then, depending on the desviation, you should correct the position of the car.\n",
    "\n",
    "To save the camera image:\n",
    "    * self.set_color_image(input_image)\n",
    "\n",
    "To save the filtered image:\n",
    "    * self.set_threshold_image(image_HSV_filtered_Mask)\n"
   ]
  },
  {
   "cell_type": "markdown",
   "metadata": {},
   "source": [
    "To show the saved images, you can use the following commands:"
   ]
  },
  {
   "cell_type": "code",
   "execution_count": null,
   "metadata": {},
   "outputs": [],
   "source": [
    "imageCamera = fl.get_color_image()\n",
    "printImage(imageCamera)\n",
    "\n",
    "#or\n",
    "\n",
    "segmentedImage = fl.get_threshold_image()\n",
    "printImage(segmentedImage)"
   ]
  }
 ],
 "metadata": {
  "kernelspec": {
   "display_name": "Python 2",
   "language": "python",
   "name": "python2"
  },
  "language_info": {
   "codemirror_mode": {
    "name": "ipython",
    "version": 2
   },
   "file_extension": ".py",
   "mimetype": "text/x-python",
   "name": "python",
   "nbconvert_exporter": "python",
   "pygments_lexer": "ipython2",
   "version": "2.7.12"
  }
 },
 "nbformat": 4,
 "nbformat_minor": 2
}
